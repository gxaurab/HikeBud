{
 "cells": [
  {
   "cell_type": "code",
   "execution_count": 1,
   "id": "616b95c0",
   "metadata": {},
   "outputs": [],
   "source": [
    "import pandas as pd\n",
    "import numpy as np"
   ]
  },
  {
   "cell_type": "code",
   "execution_count": 25,
   "id": "1aaba775",
   "metadata": {},
   "outputs": [],
   "source": [
    "df = pd.read_csv('Trek Data.csv')"
   ]
  },
  {
   "cell_type": "code",
   "execution_count": 26,
   "id": "566b3429",
   "metadata": {},
   "outputs": [
    {
     "data": {
      "text/html": [
       "<div>\n",
       "<style scoped>\n",
       "    .dataframe tbody tr th:only-of-type {\n",
       "        vertical-align: middle;\n",
       "    }\n",
       "\n",
       "    .dataframe tbody tr th {\n",
       "        vertical-align: top;\n",
       "    }\n",
       "\n",
       "    .dataframe thead th {\n",
       "        text-align: right;\n",
       "    }\n",
       "</style>\n",
       "<table border=\"1\" class=\"dataframe\">\n",
       "  <thead>\n",
       "    <tr style=\"text-align: right;\">\n",
       "      <th></th>\n",
       "      <th>Unnamed: 0</th>\n",
       "      <th>Trek</th>\n",
       "      <th>Cost</th>\n",
       "      <th>Time</th>\n",
       "      <th>Trip Grade</th>\n",
       "      <th>Max Altitude</th>\n",
       "      <th>Accomodation</th>\n",
       "      <th>Best Travel Time</th>\n",
       "      <th>Contact or Book your Trip</th>\n",
       "    </tr>\n",
       "  </thead>\n",
       "  <tbody>\n",
       "    <tr>\n",
       "      <th>0</th>\n",
       "      <td>0</td>\n",
       "      <td>Everest Base Camp Trek</td>\n",
       "      <td>\\n$1,420     USD</td>\n",
       "      <td>16 Days</td>\n",
       "      <td>Moderate</td>\n",
       "      <td>5545 m</td>\n",
       "      <td>Hotel/Guesthouse</td>\n",
       "      <td>March - May &amp; Sept - Dec</td>\n",
       "      <td>https://www.nepalhikingteam.com</td>\n",
       "    </tr>\n",
       "    <tr>\n",
       "      <th>1</th>\n",
       "      <td>1</td>\n",
       "      <td>Everest Base Camp Short Trek</td>\n",
       "      <td>\\n$1,295     USD</td>\n",
       "      <td>14 Days</td>\n",
       "      <td>Moderate</td>\n",
       "      <td>5545 m</td>\n",
       "      <td>Hotel/Guesthouse</td>\n",
       "      <td>March - May &amp; Sept - Dec</td>\n",
       "      <td>https://www.nepalhikingteam.com</td>\n",
       "    </tr>\n",
       "    <tr>\n",
       "      <th>2</th>\n",
       "      <td>2</td>\n",
       "      <td>Everest Base Camp Heli Shuttle Trek</td>\n",
       "      <td>\\n$2000 USD</td>\n",
       "      <td>12 Days</td>\n",
       "      <td>Moderate</td>\n",
       "      <td>5545 m</td>\n",
       "      <td>Hotel/Guesthouse</td>\n",
       "      <td>March - May &amp; Sept - Dec</td>\n",
       "      <td>https://www.nepalhikingteam.com</td>\n",
       "    </tr>\n",
       "  </tbody>\n",
       "</table>\n",
       "</div>"
      ],
      "text/plain": [
       "   Unnamed: 0                                 Trek              Cost  \\\n",
       "0           0               Everest Base Camp Trek  \\n$1,420     USD   \n",
       "1           1         Everest Base Camp Short Trek  \\n$1,295     USD   \n",
       "2           2  Everest Base Camp Heli Shuttle Trek       \\n$2000 USD   \n",
       "\n",
       "       Time Trip Grade Max Altitude      Accomodation  \\\n",
       "0   16 Days   Moderate       5545 m  Hotel/Guesthouse   \n",
       "1   14 Days   Moderate       5545 m  Hotel/Guesthouse   \n",
       "2   12 Days   Moderate       5545 m  Hotel/Guesthouse   \n",
       "\n",
       "           Best Travel Time        Contact or Book your Trip  \n",
       "0  March - May & Sept - Dec  https://www.nepalhikingteam.com  \n",
       "1  March - May & Sept - Dec  https://www.nepalhikingteam.com  \n",
       "2  March - May & Sept - Dec  https://www.nepalhikingteam.com  "
      ]
     },
     "execution_count": 26,
     "metadata": {},
     "output_type": "execute_result"
    }
   ],
   "source": [
    "df.head(3)"
   ]
  },
  {
   "cell_type": "code",
   "execution_count": 6,
   "metadata": {},
   "outputs": [
    {
     "name": "stdout",
     "output_type": "stream",
     "text": [
      "<class 'pandas.core.frame.DataFrame'>\n",
      "RangeIndex: 383 entries, 0 to 382\n",
      "Data columns (total 9 columns):\n",
      " #   Column                     Non-Null Count  Dtype \n",
      "---  ------                     --------------  ----- \n",
      " 0   Unnamed: 0                 383 non-null    int64 \n",
      " 1   Trek                       383 non-null    object\n",
      " 2   Cost                       383 non-null    object\n",
      " 3   Time                       383 non-null    object\n",
      " 4   Trip Grade                 383 non-null    object\n",
      " 5   Max Altitude               383 non-null    object\n",
      " 6   Accomodation               383 non-null    object\n",
      " 7   Best Travel Time           383 non-null    object\n",
      " 8   Contact or Book your Trip  383 non-null    object\n",
      "dtypes: int64(1), object(8)\n",
      "memory usage: 27.1+ KB\n"
     ]
    }
   ],
   "source": [
    "df.info()"
   ]
  },
  {
   "cell_type": "code",
   "execution_count": 27,
   "id": "bb11e00a",
   "metadata": {},
   "outputs": [],
   "source": [
    "df.drop('Unnamed: 0', axis=1, inplace=True)"
   ]
  },
  {
   "cell_type": "code",
   "execution_count": 28,
   "id": "e6e19b4b",
   "metadata": {},
   "outputs": [
    {
     "data": {
      "text/html": [
       "<div>\n",
       "<style scoped>\n",
       "    .dataframe tbody tr th:only-of-type {\n",
       "        vertical-align: middle;\n",
       "    }\n",
       "\n",
       "    .dataframe tbody tr th {\n",
       "        vertical-align: top;\n",
       "    }\n",
       "\n",
       "    .dataframe thead th {\n",
       "        text-align: right;\n",
       "    }\n",
       "</style>\n",
       "<table border=\"1\" class=\"dataframe\">\n",
       "  <thead>\n",
       "    <tr style=\"text-align: right;\">\n",
       "      <th></th>\n",
       "      <th>Trek</th>\n",
       "      <th>Cost</th>\n",
       "      <th>Time</th>\n",
       "      <th>Trip Grade</th>\n",
       "      <th>Max Altitude</th>\n",
       "      <th>Accomodation</th>\n",
       "      <th>Best Travel Time</th>\n",
       "      <th>Contact or Book your Trip</th>\n",
       "    </tr>\n",
       "  </thead>\n",
       "  <tbody>\n",
       "    <tr>\n",
       "      <th>0</th>\n",
       "      <td>Everest Base Camp Trek</td>\n",
       "      <td>\\n$1,420     USD</td>\n",
       "      <td>16 Days</td>\n",
       "      <td>Moderate</td>\n",
       "      <td>5545 m</td>\n",
       "      <td>Hotel/Guesthouse</td>\n",
       "      <td>March - May &amp; Sept - Dec</td>\n",
       "      <td>https://www.nepalhikingteam.com</td>\n",
       "    </tr>\n",
       "    <tr>\n",
       "      <th>1</th>\n",
       "      <td>Everest Base Camp Short Trek</td>\n",
       "      <td>\\n$1,295     USD</td>\n",
       "      <td>14 Days</td>\n",
       "      <td>Moderate</td>\n",
       "      <td>5545 m</td>\n",
       "      <td>Hotel/Guesthouse</td>\n",
       "      <td>March - May &amp; Sept - Dec</td>\n",
       "      <td>https://www.nepalhikingteam.com</td>\n",
       "    </tr>\n",
       "  </tbody>\n",
       "</table>\n",
       "</div>"
      ],
      "text/plain": [
       "                           Trek              Cost      Time Trip Grade  \\\n",
       "0        Everest Base Camp Trek  \\n$1,420     USD   16 Days   Moderate   \n",
       "1  Everest Base Camp Short Trek  \\n$1,295     USD   14 Days   Moderate   \n",
       "\n",
       "  Max Altitude      Accomodation          Best Travel Time  \\\n",
       "0       5545 m  Hotel/Guesthouse  March - May & Sept - Dec   \n",
       "1       5545 m  Hotel/Guesthouse  March - May & Sept - Dec   \n",
       "\n",
       "         Contact or Book your Trip  \n",
       "0  https://www.nepalhikingteam.com  \n",
       "1  https://www.nepalhikingteam.com  "
      ]
     },
     "execution_count": 28,
     "metadata": {},
     "output_type": "execute_result"
    }
   ],
   "source": [
    "df.head(2)"
   ]
  },
  {
   "cell_type": "code",
   "execution_count": 34,
   "id": "e3272696",
   "metadata": {},
   "outputs": [
    {
     "data": {
      "text/html": [
       "<div>\n",
       "<style scoped>\n",
       "    .dataframe tbody tr th:only-of-type {\n",
       "        vertical-align: middle;\n",
       "    }\n",
       "\n",
       "    .dataframe tbody tr th {\n",
       "        vertical-align: top;\n",
       "    }\n",
       "\n",
       "    .dataframe thead th {\n",
       "        text-align: right;\n",
       "    }\n",
       "</style>\n",
       "<table border=\"1\" class=\"dataframe\">\n",
       "  <thead>\n",
       "    <tr style=\"text-align: right;\">\n",
       "      <th></th>\n",
       "      <th>Trek</th>\n",
       "      <th>Cost</th>\n",
       "      <th>Days</th>\n",
       "      <th>Trip Grade</th>\n",
       "      <th>Altitude</th>\n",
       "      <th>Accomodation</th>\n",
       "      <th>Best Travel Time</th>\n",
       "      <th>Contact or Book your Trip</th>\n",
       "    </tr>\n",
       "  </thead>\n",
       "  <tbody>\n",
       "    <tr>\n",
       "      <th>28</th>\n",
       "      <td>Tsum Valley with Manaslu Trek</td>\n",
       "      <td>1850</td>\n",
       "      <td>20.0</td>\n",
       "      <td>Strenuous</td>\n",
       "      <td>5220</td>\n",
       "      <td>Hotel/Guesthouse</td>\n",
       "      <td>March - May &amp; Sept - Nov</td>\n",
       "      <td>https://www.nepalhikingteam.com</td>\n",
       "    </tr>\n",
       "    <tr>\n",
       "      <th>367</th>\n",
       "      <td>Nepal Hiking and Culture Tour</td>\n",
       "      <td>1499</td>\n",
       "      <td>8.0</td>\n",
       "      <td>Moderate</td>\n",
       "      <td>1550</td>\n",
       "      <td>Hotel/Guesthouse</td>\n",
       "      <td>Jan - May &amp; Sept - Dec</td>\n",
       "      <td>https://www.himalayanglacier.com</td>\n",
       "    </tr>\n",
       "  </tbody>\n",
       "</table>\n",
       "</div>"
      ],
      "text/plain": [
       "                                Trek  Cost  Days Trip Grade  Altitude  \\\n",
       "28     Tsum Valley with Manaslu Trek  1850  20.0  Strenuous      5220   \n",
       "367  Nepal Hiking and Culture Tour    1499   8.0   Moderate      1550   \n",
       "\n",
       "         Accomodation          Best Travel Time  \\\n",
       "28   Hotel/Guesthouse  March - May & Sept - Nov   \n",
       "367  Hotel/Guesthouse    Jan - May & Sept - Dec   \n",
       "\n",
       "            Contact or Book your Trip  \n",
       "28    https://www.nepalhikingteam.com  \n",
       "367  https://www.himalayanglacier.com  "
      ]
     },
     "execution_count": 34,
     "metadata": {},
     "output_type": "execute_result"
    }
   ],
   "source": [
    "df['Cost'] = df['Cost'].astype(str).str.replace(r'[^\\d.]', '', regex=True)\n",
    "df.sample(2)"
   ]
  },
  {
   "cell_type": "code",
   "execution_count": 29,
   "id": "9bcca3cb",
   "metadata": {},
   "outputs": [],
   "source": [
    "df['Max Altitude'] = df['Max Altitude'].astype(str).str.replace(r'[^\\d.]', '', regex=True)\n",
    "df['Max Altitude'] = pd.to_numeric(df['Max Altitude'], errors='coerce')\n",
    "df.rename(columns={'Max Altitude': 'Altitude'}, inplace=True)"
   ]
  },
  {
   "cell_type": "code",
   "execution_count": 30,
   "id": "c8904645",
   "metadata": {},
   "outputs": [],
   "source": [
    "df['Time'] = df['Time'].astype(str).str.lower().str.replace('days', '', regex=False).str.strip()\n",
    "df['Time'] = df['Time'].apply(lambda x: np.mean([float(p.strip()) for p in x.split('-')]) if '-' in x else (float(x) if x else np.nan))\n",
    "df.rename(columns={'Time': 'Days'}, inplace=True)"
   ]
  },
  {
   "cell_type": "code",
   "execution_count": 37,
   "id": "aad4cce3",
   "metadata": {},
   "outputs": [
    {
     "data": {
      "text/html": [
       "<div>\n",
       "<style scoped>\n",
       "    .dataframe tbody tr th:only-of-type {\n",
       "        vertical-align: middle;\n",
       "    }\n",
       "\n",
       "    .dataframe tbody tr th {\n",
       "        vertical-align: top;\n",
       "    }\n",
       "\n",
       "    .dataframe thead th {\n",
       "        text-align: right;\n",
       "    }\n",
       "</style>\n",
       "<table border=\"1\" class=\"dataframe\">\n",
       "  <thead>\n",
       "    <tr style=\"text-align: right;\">\n",
       "      <th></th>\n",
       "      <th>Name</th>\n",
       "      <th>Cost</th>\n",
       "      <th>Days</th>\n",
       "      <th>Trip Grade</th>\n",
       "      <th>Altitude</th>\n",
       "      <th>Accomodation</th>\n",
       "      <th>Best Travel Time</th>\n",
       "      <th>Contact or Book your Trip</th>\n",
       "    </tr>\n",
       "  </thead>\n",
       "  <tbody>\n",
       "    <tr>\n",
       "      <th>0</th>\n",
       "      <td>Everest Base Camp Trek</td>\n",
       "      <td>1420</td>\n",
       "      <td>16.0</td>\n",
       "      <td>Moderate</td>\n",
       "      <td>5545</td>\n",
       "      <td>Hotel/Guesthouse</td>\n",
       "      <td>March - May &amp; Sept - Dec</td>\n",
       "      <td>https://www.nepalhikingteam.com</td>\n",
       "    </tr>\n",
       "    <tr>\n",
       "      <th>1</th>\n",
       "      <td>Everest Base Camp Short Trek</td>\n",
       "      <td>1295</td>\n",
       "      <td>14.0</td>\n",
       "      <td>Moderate</td>\n",
       "      <td>5545</td>\n",
       "      <td>Hotel/Guesthouse</td>\n",
       "      <td>March - May &amp; Sept - Dec</td>\n",
       "      <td>https://www.nepalhikingteam.com</td>\n",
       "    </tr>\n",
       "  </tbody>\n",
       "</table>\n",
       "</div>"
      ],
      "text/plain": [
       "                           Name  Cost  Days Trip Grade  Altitude  \\\n",
       "0        Everest Base Camp Trek  1420  16.0   Moderate      5545   \n",
       "1  Everest Base Camp Short Trek  1295  14.0   Moderate      5545   \n",
       "\n",
       "       Accomodation          Best Travel Time        Contact or Book your Trip  \n",
       "0  Hotel/Guesthouse  March - May & Sept - Dec  https://www.nepalhikingteam.com  \n",
       "1  Hotel/Guesthouse  March - May & Sept - Dec  https://www.nepalhikingteam.com  "
      ]
     },
     "execution_count": 37,
     "metadata": {},
     "output_type": "execute_result"
    }
   ],
   "source": [
    "df.rename(columns={'Trek':\"Name\"}, inplace=True)\n",
    "df.head(2)"
   ]
  },
  {
   "cell_type": "code",
   "execution_count": 38,
   "id": "cec1591e",
   "metadata": {},
   "outputs": [],
   "source": [
    "df.to_csv('cleaned_dataset.csv', index=False)"
   ]
  }
 ],
 "metadata": {
  "kernelspec": {
   "display_name": "Python 3",
   "language": "python",
   "name": "python3"
  },
  "language_info": {
   "codemirror_mode": {
    "name": "ipython",
    "version": 3
   },
   "file_extension": ".py",
   "mimetype": "text/x-python",
   "name": "python",
   "nbconvert_exporter": "python",
   "pygments_lexer": "ipython3",
   "version": "3.12.10"
  }
 },
 "nbformat": 4,
 "nbformat_minor": 5
}
