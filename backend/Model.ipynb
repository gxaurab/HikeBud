{
 "cells": [
  {
   "cell_type": "code",
   "execution_count": 1,
   "id": "b2a3cbb8",
   "metadata": {},
   "outputs": [],
   "source": [
    "import pandas as pd \n",
    "import numpy as np\n",
    "\n",
    "df = pd.read_csv('cleaned_dataset.csv')"
   ]
  },
  {
   "cell_type": "code",
   "execution_count": 2,
   "id": "dacafb92",
   "metadata": {},
   "outputs": [
    {
     "data": {
      "text/html": [
       "<div>\n",
       "<style scoped>\n",
       "    .dataframe tbody tr th:only-of-type {\n",
       "        vertical-align: middle;\n",
       "    }\n",
       "\n",
       "    .dataframe tbody tr th {\n",
       "        vertical-align: top;\n",
       "    }\n",
       "\n",
       "    .dataframe thead th {\n",
       "        text-align: right;\n",
       "    }\n",
       "</style>\n",
       "<table border=\"1\" class=\"dataframe\">\n",
       "  <thead>\n",
       "    <tr style=\"text-align: right;\">\n",
       "      <th></th>\n",
       "      <th>Name</th>\n",
       "      <th>Cost</th>\n",
       "      <th>Days</th>\n",
       "      <th>Trip Grade</th>\n",
       "      <th>Altitude</th>\n",
       "      <th>Accomodation</th>\n",
       "      <th>Best Travel Time</th>\n",
       "      <th>Contact or Book your Trip</th>\n",
       "    </tr>\n",
       "  </thead>\n",
       "  <tbody>\n",
       "    <tr>\n",
       "      <th>198</th>\n",
       "      <td>Annapurna Sanctuary Trek</td>\n",
       "      <td>1499</td>\n",
       "      <td>14.0</td>\n",
       "      <td>Moderate+Demanding</td>\n",
       "      <td>4130</td>\n",
       "      <td>Hotel/Guesthouse</td>\n",
       "      <td>Jan - May &amp; Sept - Dec</td>\n",
       "      <td>https://www.himalayanglacier.com</td>\n",
       "    </tr>\n",
       "    <tr>\n",
       "      <th>323</th>\n",
       "      <td>Manaslu Circuit Trekking</td>\n",
       "      <td>1380</td>\n",
       "      <td>14.0</td>\n",
       "      <td>Moderate</td>\n",
       "      <td>5220</td>\n",
       "      <td>Hotel/Teahouses</td>\n",
       "      <td>March - May &amp; Setpt - Nov</td>\n",
       "      <td>https://www.nepalhikingteam.com</td>\n",
       "    </tr>\n",
       "  </tbody>\n",
       "</table>\n",
       "</div>"
      ],
      "text/plain": [
       "                           Name  Cost  Days          Trip Grade  Altitude  \\\n",
       "198  Annapurna Sanctuary Trek    1499  14.0  Moderate+Demanding      4130   \n",
       "323    Manaslu Circuit Trekking  1380  14.0            Moderate      5220   \n",
       "\n",
       "         Accomodation           Best Travel Time  \\\n",
       "198  Hotel/Guesthouse     Jan - May & Sept - Dec   \n",
       "323   Hotel/Teahouses  March - May & Setpt - Nov   \n",
       "\n",
       "            Contact or Book your Trip  \n",
       "198  https://www.himalayanglacier.com  \n",
       "323   https://www.nepalhikingteam.com  "
      ]
     },
     "execution_count": 2,
     "metadata": {},
     "output_type": "execute_result"
    }
   ],
   "source": [
    "df.sample(2)"
   ]
  },
  {
   "cell_type": "code",
   "execution_count": null,
   "id": "6ec2368b",
   "metadata": {},
   "outputs": [],
   "source": []
  },
  {
   "cell_type": "code",
   "execution_count": null,
   "id": "8d7df5d6",
   "metadata": {},
   "outputs": [],
   "source": []
  },
  {
   "cell_type": "code",
   "execution_count": null,
   "id": "93a484a3",
   "metadata": {},
   "outputs": [],
   "source": []
  }
 ],
 "metadata": {
  "kernelspec": {
   "display_name": "Python 3",
   "language": "python",
   "name": "python3"
  },
  "language_info": {
   "codemirror_mode": {
    "name": "ipython",
    "version": 3
   },
   "file_extension": ".py",
   "mimetype": "text/x-python",
   "name": "python",
   "nbconvert_exporter": "python",
   "pygments_lexer": "ipython3",
   "version": "3.12.10"
  }
 },
 "nbformat": 4,
 "nbformat_minor": 5
}
